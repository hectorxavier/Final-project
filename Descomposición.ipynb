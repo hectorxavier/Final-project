{
 "cells": [
  {
   "cell_type": "markdown",
   "metadata": {},
   "source": [
    "**Hola Hector!**\n",
    "\n",
    "Soy **Patricio Requena** 👋. Es un placer ser el revisor de tu proyecto el día de hoy!\n",
    "\n",
    "Revisaré tu proyecto detenidamente con el objetivo de ayudarte a mejorar y perfeccionar tus habilidades. Durante mi revisión, identificaré áreas donde puedas hacer mejoras en tu código, señalando específicamente qué y cómo podrías ajustar para optimizar el rendimiento y la claridad de tu proyecto. Además, es importante para mí destacar los aspectos que has manejado excepcionalmente bien. Reconocer tus fortalezas te ayudará a entender qué técnicas y métodos están funcionando a tu favor y cómo puedes aplicarlos en futuras tareas. \n",
    "\n",
    "_**Recuerda que al final de este notebook encontrarás un comentario general de mi parte**_, empecemos!\n",
    "\n",
    "Encontrarás mis comentarios dentro de cajas verdes, amarillas o rojas, ⚠️ **por favor, no muevas, modifiques o borres mis comentarios** ⚠️:\n",
    "\n",
    "\n",
    "<div class=\"alert alert-block alert-success\">\n",
    "<b>Comentario del revisor</b> <a class=“tocSkip”></a>\n",
    "Si todo está perfecto.\n",
    "</div>\n",
    "\n",
    "<div class=\"alert alert-block alert-warning\">\n",
    "<b>Comentario del revisor</b> <a class=“tocSkip”></a>\n",
    "Si tu código está bien pero se puede mejorar o hay algún detalle que le hace falta.\n",
    "</div>\n",
    "\n",
    "<div class=\"alert alert-block alert-danger\">\n",
    "<b>Comentario del revisor</b> <a class=“tocSkip”></a>\n",
    "Si de pronto hace falta algo o existe algún problema con tu código o conclusiones.\n",
    "</div>\n",
    "\n",
    "Puedes responderme de esta forma:\n",
    "<div class=\"alert alert-block alert-info\">\n",
    "<b>Respuesta del estudiante</b> <a class=“tocSkip”></a>\n",
    "</div>"
   ]
  },
  {
   "cell_type": "markdown",
   "metadata": {},
   "source": [
    "# Descomposición del proyecto"
   ]
  },
  {
   "cell_type": "markdown",
   "metadata": {},
   "source": [
    "El presente notebook tiene por objetivo descomponer la tarea del proyecto final relacionada al servicio de telefonía CallMeMaybe. Se describirá los puntos que se irán aplicando durante el análisis de los datos, se aplicarán distintas herramientas, mismas que se especificarán en los puntos posteriores."
   ]
  },
  {
   "cell_type": "markdown",
   "metadata": {},
   "source": [
    "## Objetivo"
   ]
  },
  {
   "cell_type": "markdown",
   "metadata": {},
   "source": [
    "Al ser CallMeMaybe un servicio que depende directamente del desempeño de los operadores, se reconoce la necesidad de establecer un método para identificar a los operadores que no cumplen con las expectativas de la empresa.\n",
    "\n",
    "El objetivo del proyecto es determinar el grupo de operadores ineficientes que llevan a cabo sus actividades en el servicio\n",
    "CallMeMaybe mediante el usos de herramientas para el análisis de datos."
   ]
  },
  {
   "cell_type": "markdown",
   "metadata": {},
   "source": [
    "## Especificación de detalles"
   ]
  },
  {
   "cell_type": "markdown",
   "metadata": {},
   "source": [
    "Se analizará si un operador es ineficaz en función a las llamadas perdidas acumuladas que tiene, pues se considera que una llamada perdida afecta a la imagen del servicio frente a los clientes, pues se puede pensar que es un servicio ineficiente. \n",
    "\n",
    "Además, se realizará un analisis en función al tiempo de espera de una llamada entrante, pues lo que se busca es que los usuarios del servicio permanezcan el menor tiempo esperando a ser atendidos.\n",
    "\n",
    "Para lograrlo, se emplearán límites que ayuden a clasificar un operador eficaz de uno ineficaz."
   ]
  },
  {
   "cell_type": "markdown",
   "metadata": {},
   "source": [
    "## Hipótesis"
   ]
  },
  {
   "cell_type": "markdown",
   "metadata": {},
   "source": [
    "Se planteará como hipótesis un factor relacionado directamente con los operadores y es la asignacion de llamadas.\n",
    "\n",
    "Hipótesis: Existen operadores con asignaciones de llamadas mayores a la média."
   ]
  },
  {
   "cell_type": "markdown",
   "metadata": {},
   "source": [
    "## Plan de acción"
   ]
  },
  {
   "cell_type": "markdown",
   "metadata": {},
   "source": [
    "* Analizar por separado la información sobre las llamadas perdidas de los operadores y el tiempo de espera.\n",
    "* Emplear los percentiles separar los datos que se encuentrar alejados de la media y ajustar los datos, La metrica fundamental para el análisis se relaciona con las llamadas perdidas de los operadores, por lo que para definir el límite para los datos desde donde se considera ineficiente a un operador se tomará el percentil 95, todo valor que se ubique sobre este se considerará ineficiente.\n",
    "* lego de separar y agrupar los operadores que tienen llamadas perdidas se usar histogramas para conocer la distribución de los datos.\n",
    "* Para el análisis del tiempo de espera se restará del total de la llamada 'total_call_duration' el valor de 'call_duration'.\n",
    "* El valor del tiempo de espera se usará para cear un  gráfico de caja y bigotes, con el que se buscará el límite para el tiempo de espera sea considerado infeiciente.\n",
    "* Comparar la carga de llamadas de los operadores."
   ]
  },
  {
   "cell_type": "markdown",
   "metadata": {},
   "source": [
    "## Etapas obligatorias "
   ]
  },
  {
   "cell_type": "markdown",
   "metadata": {},
   "source": [
    "1. Revisión de valores nulos.\n",
    "2. Revisión de valores duplicados.\n",
    "3. Reconocer el tipo de datos que integran el dataset.\n",
    "4. Definir el grupo de usuarios que tiene llamadas perdidas.\n",
    "5. Definir límites para reconocer a los operadores ineficientes según el número de llamdas perdidas.\n",
    "6. Definir límites para reconocer a los operadores ineficientes.\n",
    "7. Usar graficos para visualizar los datos analizados."
   ]
  },
  {
   "cell_type": "markdown",
   "metadata": {},
   "source": [
    "# Comentarios"
   ]
  },
  {
   "cell_type": "markdown",
   "metadata": {},
   "source": [
    "Estimado revisor, este es un primer bosquejo para definir la descomposición del proyecto. Agradecería las sugerencia sobre como mejorar este punto y poder continuar."
   ]
  },
  {
   "cell_type": "markdown",
   "metadata": {},
   "source": [
    "<div class=\"alert alert-block alert-danger\">\n",
    "<b>Comentario del revisor (1ra Iteración)</b> <a class=\"tocSkip\"></a>\n",
    "\n",
    "Hola Hector, buen trabajo con el avance de la descomposición de tus tareas. Sin embargo, siento que puede ser más completo si aclaras los siguientes puntos:\n",
    "    \n",
    "- ¿Cómo vas a analizar las variables de tu dataset? \n",
    "- En donde incluirás las gráficas de tu proyecto para ilustrarlo mejor, que tipos de gráficas consideras usar\n",
    "- Cuales son las hipótesis a probar?\n",
    "- Cómo está descrito la descomposición es cómo se estructurará el notebook o este tendrá otra estructura?\n",
    "    \n",
    "    \n",
    "Saludos!\n",
    "</div>"
   ]
  },
  {
   "cell_type": "markdown",
   "metadata": {},
   "source": [
    "<div class=\"alert alert-block alert-info\">\n",
    "<b>Respuesta del estudiante</b> <a class=“tocSkip”></a>\n",
    "He agregado detalles a los punto que anteriormente se habian descrito.\n",
    "   </div>"
   ]
  },
  {
   "cell_type": "markdown",
   "metadata": {},
   "source": [
    "<div class=\"alert alert-block alert-success\">\n",
    "<b>Comentario del revisor (1ra Iteración)</b> <a class=\"tocSkip\"></a>\n",
    "\n",
    "Buen trabajo con estos últimos cambios! Tienes un plan bastante bien estructurado y un notebook con una presentación excelente. Me gustaría dejarte algunos comentarios y recomendaciones para el avance de tu proyecto:\n",
    "\n",
    "- **Contexto y objetivos**: Incluye esta sección introductoria que ayude a entender el contexto del projecto, pero también sería bueno ser un poco más detallada en el problema que trabajarás, por que se realiza el proyecto, etc.\n",
    "\n",
    "- **Preprocesamiento de datos**: Es una parte escencial en tu proyecto y lo tienes bastante bien cubierto, felicidades!\n",
    "\n",
    "- **Análisis exploratorio**: En esta sección tienes muy bien cubierto los pasos para entender los datos con los que trabajas, te recomendaría incluir la revisión de datos atípicos que luego puedan llegar a causar alguna métrica errónea al final de tu proyecto.\n",
    "\n",
    "- **Prueba de hipótesis**: Determinar si tenemos una diferencia significativa en nuestra métrica objetivo es importante, por eso te recomiendo incluir esta sección en tu proyecto.\n",
    "\n",
    "- **Conclusiones y recomendaciones**: No olvides que esto debe ir al final de todos tus proyectos.\n",
    "    \n",
    "\n",
    "Adicional para tu presentación final también podrías preparar una presentación de slides y exportarlo a PDF para poder compartir y explicar tus hallazgos en tu proyecto final. Te recomiendo esto ya que a menudo en un entorno laboral esta será la forma más fácil de explicar los resultados sin mostrar algo tan técnico cómo el código en el notebook.\n",
    "    \n",
    "    \n",
    "Saludos!\n",
    "</div>"
   ]
  }
 ],
 "metadata": {
  "ExecuteTimeLog": [
   {
    "duration": 2,
    "start_time": "2024-11-30T04:31:46.037Z"
   },
   {
    "duration": 2,
    "start_time": "2024-11-30T04:32:58.947Z"
   },
   {
    "duration": 8,
    "start_time": "2024-11-30T04:56:24.183Z"
   },
   {
    "duration": 5,
    "start_time": "2024-11-30T05:05:10.591Z"
   },
   {
    "duration": 8,
    "start_time": "2024-12-04T02:39:16.306Z"
   }
  ],
  "kernelspec": {
   "display_name": "Python 3 (ipykernel)",
   "language": "python",
   "name": "python3"
  },
  "language_info": {
   "codemirror_mode": {
    "name": "ipython",
    "version": 3
   },
   "file_extension": ".py",
   "mimetype": "text/x-python",
   "name": "python",
   "nbconvert_exporter": "python",
   "pygments_lexer": "ipython3",
   "version": "3.9.19"
  },
  "toc": {
   "base_numbering": 1,
   "nav_menu": {},
   "number_sections": true,
   "sideBar": true,
   "skip_h1_title": true,
   "title_cell": "Table of Contents",
   "title_sidebar": "Contents",
   "toc_cell": false,
   "toc_position": {},
   "toc_section_display": true,
   "toc_window_display": false
  }
 },
 "nbformat": 4,
 "nbformat_minor": 2
}
